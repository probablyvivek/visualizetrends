{
 "cells": [
  {
   "cell_type": "code",
   "execution_count": 6,
   "metadata": {},
   "outputs": [
    {
     "name": "stdout",
     "output_type": "stream",
     "text": [
      "Fetching data for al nassr\n",
      "Fetching data for Inter Miami\n"
     ]
    }
   ],
   "source": [
    "import time\n",
    "from pytrends.request import TrendReq\n",
    "import pandas as pd\n",
    "\n",
    "# Initialize pytrends\n",
    "pytrend = TrendReq(hl='en-US', tz=360)\n",
    "\n",
    "# Define your topics\n",
    "topics = ['al nassr', 'Inter Miami']\n",
    "\n",
    "# DataFrame to store interest over time\n",
    "interest_over_time_df = pd.DataFrame()\n",
    "\n",
    "# Function to fetch interest over time\n",
    "def fetch_interest_over_time(topic, pytrend_obj, retry_count=5, delay=5):\n",
    "    for attempt in range(retry_count):\n",
    "        try:\n",
    "            pytrend_obj.build_payload(kw_list=[topic], timeframe='2023-01-01 2023-12-31', geo='IN')\n",
    "            interest = pytrend_obj.interest_over_time()\n",
    "            return interest.drop(labels=['isPartial'], axis='columns')\n",
    "        except Exception as e:\n",
    "            print(f\"Error: {e}. Retrying in {delay} seconds.\")\n",
    "            time.sleep(delay)\n",
    "    print(f\"Failed to fetch data for {topic} after {retry_count} retries.\")\n",
    "    return pd.DataFrame()\n",
    "\n",
    "# Fetch data for each topic\n",
    "for topic in topics:\n",
    "    print(f\"Fetching data for {topic}\")\n",
    "    interest_data = fetch_interest_over_time(topic, pytrend)\n",
    "    if not interest_data.empty:\n",
    "        interest_data.rename(columns={topic: f'interest_{topic}'}, inplace=True)\n",
    "        interest_over_time_df = pd.concat([interest_over_time_df, interest_data], axis=1)\n",
    "    time.sleep(60)  # Sleep for 60 seconds between each request\n",
    "\n",
    "# Save or process your DataFrame\n",
    "interest_over_time_df.head()\n",
    "# Optionally, save to a file\n",
    "interest_over_time_df.to_csv('interest_over_time.csv')\n"
   ]
  },
  {
   "cell_type": "code",
   "execution_count": null,
   "metadata": {},
   "outputs": [],
   "source": []
  }
 ],
 "metadata": {
  "kernelspec": {
   "display_name": "Python 3",
   "language": "python",
   "name": "python3"
  },
  "language_info": {
   "codemirror_mode": {
    "name": "ipython",
    "version": 3
   },
   "file_extension": ".py",
   "mimetype": "text/x-python",
   "name": "python",
   "nbconvert_exporter": "python",
   "pygments_lexer": "ipython3",
   "version": "3.11.4"
  }
 },
 "nbformat": 4,
 "nbformat_minor": 2
}
