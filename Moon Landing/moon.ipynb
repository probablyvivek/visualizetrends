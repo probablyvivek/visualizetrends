{
 "cells": [
  {
   "cell_type": "code",
   "execution_count": 15,
   "metadata": {},
   "outputs": [],
   "source": [
    "import pandas as pd"
   ]
  },
  {
   "cell_type": "code",
   "execution_count": 16,
   "metadata": {},
   "outputs": [
    {
     "data": {
      "text/plain": [
       "Index(['Mission', 'Spacecraft', 'Launch Date', 'Carrier rocket', 'Operator',\n",
       "       'Mission type', 'Outcome'],\n",
       "      dtype='object')"
      ]
     },
     "execution_count": 16,
     "metadata": {},
     "output_type": "execute_result"
    }
   ],
   "source": [
    "raw_data = pd.read_csv(\"Moon Missions - Sheet1.csv\")\n",
    "\n",
    "raw_data.columns"
   ]
  },
  {
   "cell_type": "code",
   "execution_count": 17,
   "metadata": {},
   "outputs": [
    {
     "name": "stderr",
     "output_type": "stream",
     "text": [
      "/var/folders/2r/w0dl27wx2m71cjdzwlk0ys5r0000gn/T/ipykernel_7354/2908957366.py:4: SettingWithCopyWarning: \n",
      "A value is trying to be set on a copy of a slice from a DataFrame.\n",
      "Try using .loc[row_indexer,col_indexer] = value instead\n",
      "\n",
      "See the caveats in the documentation: https://pandas.pydata.org/pandas-docs/stable/user_guide/indexing.html#returning-a-view-versus-a-copy\n",
      "  cleaned_data['Mission'] = cleaned_data['Mission'].str.replace(r'\\[\\d+\\]|[\\*\\n]', '', regex=True)\n"
     ]
    }
   ],
   "source": [
    "# Select only the 'Mission', 'Launch Date', and 'Outcome' columns\n",
    "cleaned_data = raw_data[['Mission', 'Launch Date', 'Operator', 'Outcome']]\n",
    "\n",
    "cleaned_data['Mission'] = cleaned_data['Mission'].str.replace(r'\\[\\d+\\]|[\\*\\n]', '', regex=True)\n",
    "\n",
    "# Remove rows with NaN values in any of the selected columns\n",
    "cleaned_data = cleaned_data.dropna(subset=['Mission', 'Launch Date', 'Operator', 'Outcome'])"
   ]
  },
  {
   "cell_type": "code",
   "execution_count": 18,
   "metadata": {},
   "outputs": [
    {
     "data": {
      "text/html": [
       "<div>\n",
       "<style scoped>\n",
       "    .dataframe tbody tr th:only-of-type {\n",
       "        vertical-align: middle;\n",
       "    }\n",
       "\n",
       "    .dataframe tbody tr th {\n",
       "        vertical-align: top;\n",
       "    }\n",
       "\n",
       "    .dataframe thead th {\n",
       "        text-align: right;\n",
       "    }\n",
       "</style>\n",
       "<table border=\"1\" class=\"dataframe\">\n",
       "  <thead>\n",
       "    <tr style=\"text-align: right;\">\n",
       "      <th></th>\n",
       "      <th>Mission</th>\n",
       "      <th>Launch Date</th>\n",
       "      <th>Operator</th>\n",
       "      <th>Outcome</th>\n",
       "    </tr>\n",
       "  </thead>\n",
       "  <tbody>\n",
       "    <tr>\n",
       "      <th>0</th>\n",
       "      <td>Pioneer 0(Able I)</td>\n",
       "      <td>17-Aug-58</td>\n",
       "      <td>USAF</td>\n",
       "      <td>Launch failure</td>\n",
       "    </tr>\n",
       "    <tr>\n",
       "      <th>2</th>\n",
       "      <td>Luna E-1 No.1</td>\n",
       "      <td>23-Sep-58</td>\n",
       "      <td>OKB-1</td>\n",
       "      <td>Launch failure</td>\n",
       "    </tr>\n",
       "    <tr>\n",
       "      <th>4</th>\n",
       "      <td>Pioneer 1(Able II)</td>\n",
       "      <td>11-Oct-58</td>\n",
       "      <td>NASA</td>\n",
       "      <td>Launch failure</td>\n",
       "    </tr>\n",
       "    <tr>\n",
       "      <th>6</th>\n",
       "      <td>Luna E-1 No.2</td>\n",
       "      <td>11-Oct-58</td>\n",
       "      <td>OKB-1</td>\n",
       "      <td>Launch failure</td>\n",
       "    </tr>\n",
       "    <tr>\n",
       "      <th>8</th>\n",
       "      <td>Pioneer 2(Able III)</td>\n",
       "      <td>08-Nov-58</td>\n",
       "      <td>NASA</td>\n",
       "      <td>Launch failure</td>\n",
       "    </tr>\n",
       "  </tbody>\n",
       "</table>\n",
       "</div>"
      ],
      "text/plain": [
       "               Mission Launch Date Operator         Outcome\n",
       "0    Pioneer 0(Able I)   17-Aug-58     USAF  Launch failure\n",
       "2        Luna E-1 No.1   23-Sep-58    OKB-1  Launch failure\n",
       "4   Pioneer 1(Able II)   11-Oct-58     NASA  Launch failure\n",
       "6        Luna E-1 No.2   11-Oct-58    OKB-1  Launch failure\n",
       "8  Pioneer 2(Able III)   08-Nov-58     NASA  Launch failure"
      ]
     },
     "execution_count": 18,
     "metadata": {},
     "output_type": "execute_result"
    }
   ],
   "source": [
    "cleaned_data.head()\n"
   ]
  },
  {
   "cell_type": "code",
   "execution_count": 19,
   "metadata": {},
   "outputs": [],
   "source": [
    "# Write the cleaned data to a new CSV file\n",
    "cleaned_data.to_csv('cleaned_data.csv', index=False)"
   ]
  },
  {
   "cell_type": "code",
   "execution_count": 56,
   "metadata": {},
   "outputs": [
    {
     "name": "stderr",
     "output_type": "stream",
     "text": [
      "/var/folders/2r/w0dl27wx2m71cjdzwlk0ys5r0000gn/T/ipykernel_7354/306811104.py:17: UserWarning: Could not infer format, so each element will be parsed individually, falling back to `dateutil`. To ensure parsing is consistent and as-expected, please specify a format.\n",
      "  cleaned_data['Launch Date'] = pd.to_datetime(cleaned_data['Launch Date'], errors='coerce')\n"
     ]
    },
    {
     "data": {
      "image/png": "[encoded data removed]",
      "text/plain": [
       "<Figure size 800x600 with 1 Axes>"
      ]
     },
     "metadata": {},
     "output_type": "display_data"
    }
   ],
   "source": [
    "import pandas as pd\n",
    "import matplotlib.pyplot as plt\n",
    "from matplotlib.font_manager import FontProperties\n",
    "\n",
    "# Read the cleaned data\n",
    "cleaned_data = pd.read_csv('cleaned_data.csv')\n",
    "\n",
    "# Function to convert two-digit year to four-digit year\n",
    "def convert_year(year):\n",
    "    if year >= 58 and year <= 99:\n",
    "        return 1900 + year\n",
    "    elif year >= 0 and year <= 23:\n",
    "        return 2000 + year\n",
    "    return year\n",
    "\n",
    "# Convert the 'Launch Date' column to a datetime object\n",
    "cleaned_data['Launch Date'] = pd.to_datetime(cleaned_data['Launch Date'], errors='coerce')\n",
    "\n",
    "# Drop rows with invalid dates\n",
    "cleaned_data = cleaned_data.dropna(subset=['Launch Date'])\n",
    "\n",
    "# Extract the two-digit year and convert to four-digit year\n",
    "cleaned_data['Year'] = cleaned_data['Launch Date'].dt.year\n",
    "cleaned_data['Year'] = cleaned_data['Year'].apply(lambda x: convert_year(x % 100))\n",
    "\n",
    "# Filter out rows with a year less than 1958\n",
    "cleaned_data = cleaned_data[cleaned_data['Year'] >= 1958]\n",
    "\n",
    "# Group the data by 'Year' and count the number of launches\n",
    "launch_counts = cleaned_data.groupby('Year').size().reset_index(name='Launches')\n",
    "\n",
    "# Fill in missing years with zeros\n",
    "all_years = pd.DataFrame({'Year': range(1958, 2026)})\n",
    "launch_counts = all_years.merge(launch_counts, on='Year', how='left').fillna(0)\n",
    "\n",
    "# Set the style to 'fivethirtyeight'\n",
    "\n",
    "plt.style.use('fivethirtyeight')\n",
    "# Create a figure with the specified background color\n",
    "# Create a figure with the specified background color\n",
    "fig = plt.figure(figsize=(8, 6), facecolor='#FFFFFF', edgecolor='#FFFFFF')\n",
    "\n",
    "# Set the background color of the axes\n",
    "ax = plt.gca()\n",
    "ax.set_facecolor('#FFFFFF')\n",
    "\n",
    "# Turn off the frame of the axes\n",
    "for spine in ax.spines.values():\n",
    "    spine.set_visible(False)\n",
    "\n",
    "plt.grid(False)\n",
    "# Set the background color of the axes\n",
    "\n",
    "\n",
    "plt.step(launch_counts['Year'], launch_counts['Launches'].values, where='mid', color='#B29BF4', alpha=0.9, linewidth=2)\n",
    "\n",
    "\n",
    "# Add horizontal lines with zorder=0\n",
    "for y in range(0, int(launch_counts['Launches'].max()) + 1, 2):\n",
    "    plt.axhline(y=y, color='black', linestyle='--', linewidth=0.2, zorder=0, alpha=0.3)\n",
    "\n",
    "\n",
    "# plt.title(\"A Journey Through Space: Launches Over the Years\", fontname='Futura', fontsize=22, color='black')\n",
    "plt.ylabel('Launch Attempts', fontname='Futura', fontsize=12, color='black')\n",
    "\n",
    "\n",
    "\n",
    "# Set x-axis limits and tick labels to display last two digits of the year\n",
    "plt.xlim(1958, 2025)\n",
    "plt.xticks(range(1958, 2025, 5), fontname='Futura', fontsize=12, color='black', rotation =90)\n",
    "plt.yticks(fontname='Futura', fontsize=12, color='black')\n",
    "\n",
    "# ... (rest of the code)\n",
    "\n",
    "# Add source text at the bottom left\n",
    "plt.text(1955, -launch_counts['Launches'].max() * 0.2, \"Source: NASA\", fontname='Futura', fontsize=10, color='grey')\n",
    "\n",
    "# Add handle name at the bottom right\n",
    "plt.text(2024, -launch_counts['Launches'].max() * 0.2, \"@VisualizeTrends\", fontname='Futura', fontsize=10, color='grey', ha='right')\n",
    "\n",
    "# Adjust the plot to make room for the text\n",
    "plt.subplots_adjust(bottom=0.1)\n",
    "\n",
    "# Show the plot\n",
    "plt.tight_layout()\n",
    "plt.savefig('Moon Missions.png', bbox_inches='tight', facecolor=fig.get_facecolor(), dpi=300)\n",
    "\n"
   ]
  },
  {
   "cell_type": "code",
   "execution_count": 44,
   "metadata": {},
   "outputs": [
    {
     "data": {
      "image/png": "[encoded data removed]",
      "text/plain": [
       "<Figure size 640x480 with 1 Axes>"
      ]
     },
     "metadata": {},
     "output_type": "display_data"
    }
   ],
   "source": [
    "import pandas as pd\n",
    "import matplotlib.pyplot as plt\n",
    "\n",
    "# Set the fivethirtyeight style\n",
    "plt.style.use('fivethirtyeight')\n",
    "\n",
    "# Create a DataFrame using the given data\n",
    "data = {\n",
    "    'Decade': [1950, 1960, 1970, 1980, 1990, 2000, 2010, 2020],\n",
    "    'Launches': [13, 63, 23, 0, 7, 9, 12, 19]\n",
    "}\n",
    "df = pd.DataFrame(data)\n",
    "\n",
    "# Plotting the vertical bar graph\n",
    "bars = plt.bar(df['Decade'], df['Launches'], color='#B8A3F3', width=5) # Set color and bar width\n",
    "\n",
    "# Annotating the bars with the number of launches\n",
    "for bar, value in zip(bars, df['Launches']):\n",
    "    plt.text(bar.get_x() + bar.get_width()/2, bar.get_height() + 1, str(value), ha='center', va='bottom', fontname = 'Futura')\n",
    "\n",
    "plt.grid(False) # Remove grid\n",
    "plt.yticks([]) # Remove y-ticks\n",
    "plt.xticks(fontname='Futura', fontsize=12, color='black', rotation =90)\n",
    "plt.tight_layout() # Adjust layout\n",
    "plt.savefig('Bars.png', bbox_inches='tight',  dpi=300)\n"
   ]
  },
  {
   "cell_type": "code",
   "execution_count": null,
   "metadata": {},
   "outputs": [],
   "source": []
  }
 ],
 "metadata": {
  "kernelspec": {
   "display_name": "base",
   "language": "python",
   "name": "python3"
  },
  "language_info": {
   "codemirror_mode": {
    "name": "ipython",
    "version": 3
   },
   "file_extension": ".py",
   "mimetype": "text/x-python",
   "name": "python",
   "nbconvert_exporter": "python",
   "pygments_lexer": "ipython3",
   "version": "3.11.4"
  },
  "orig_nbformat": 4
 },
 "nbformat": 4,
 "nbformat_minor": 2
}
